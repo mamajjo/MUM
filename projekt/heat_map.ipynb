{
 "cells": [
  {
   "cell_type": "code",
   "execution_count": null,
   "metadata": {
    "pycharm": {
     "is_executing": false
    }
   },
   "outputs": [],
   "source": [
    "from folium.plugins import HeatMap\n",
    "!pip install scipy numpy matplotlib pandas sklearn > /dev/null\n",
    "!pip install requests\n",
    "!pip install geopandas\n",
    "!pip install geopy\n",
    "!pip install folium"
   ]
  },
  {
   "cell_type": "code",
   "execution_count": null,
   "outputs": [],
   "source": [
    "# Load libraries\n",
    "import json\n",
    "import requests\n",
    "import pandas as pd\n",
    "from pandas.io.json import json_normalize\n",
    "from geopy import Nominatim\n",
    "import numpy as np\n",
    "import webbrowser\n",
    "import folium"
   ],
   "metadata": {
    "collapsed": false,
    "pycharm": {
     "name": "#%%\n",
     "is_executing": false
    }
   }
  },
  {
   "cell_type": "markdown",
   "metadata": {
    "pycharm": {
     "name": "#%% md\n"
    }
   },
   "source": [
    "<h2>Dataset load</h2>"
   ]
  },
  {
   "cell_type": "code",
   "execution_count": null,
   "outputs": [],
   "source": [
    "                  \n",
    "def get_jobs_info(api_url = 'https://justjoin.it/api/offers'):\n",
    "    headers = {'Content-Type': 'application/json'}\n",
    "    response = requests.get(api_url, headers=headers)\n",
    "    if response.status_code == 200:\n",
    "        return json.loads(response.content.decode('utf-8'))\n",
    "    else:\n",
    "        return None"
   ],
   "metadata": {
    "collapsed": false,
    "pycharm": {
     "name": "#%%\n",
     "is_executing": false
    }
   }
  },
  {
   "cell_type": "markdown",
   "source": [
    "<h2>Coordinates load and HeatMap </h2>"
   ],
   "metadata": {
    "collapsed": false
   }
  },
  {
   "cell_type": "code",
   "execution_count": null,
   "outputs": [],
   "source": [
    "# Columns name used in building HeatMap\n",
    "lat_column_name = 'lat'\n",
    "lon_column_name = 'lon'\n",
    "numerical_column_name = 'no'\n",
    "    \n",
    "def fill_geo_info(places_data, loc_column_name):\n",
    "    locator = Nominatim(user_agent=\"myGeocoder\")\n",
    "    \n",
    "    for i, row in places_data.iterrows():\n",
    "        location = locator.geocode(row[loc_column_name])\n",
    "        if location is not None:\n",
    "            places_data.loc[i,lat_column_name] = location.latitude\n",
    "            places_data.loc[i,lon_column_name] = location.longitude\n",
    "            \n",
    "    return places_data\n",
    "\n",
    "\n",
    "def print_geo_map(places_data, file_path = 'test.html'):\n",
    "\n",
    "    places_len = len(places_data)\n",
    "    \n",
    "    lat = np.array(places_data[lat_column_name][0:places_len])\n",
    "    lon = np.array(places_data[lon_column_name][0:places_len])\n",
    "    no = np.array(places_data[numerical_column_name][0:places_len],dtype=float)\n",
    "    data1 = [[lat[i],lon[i],no[i]] for i in range(places_len)] \n",
    "    \n",
    "    #location is the center location, draw a Map, and start zooming is 6 times.\n",
    "    map_osm = folium.Map(location=[lat.mean(),lon.mean()],zoom_start=6,control_scale=True)\n",
    "    HeatMap(data1).add_to(map_osm) # Add heat map to the created map\n",
    "    map_osm.save(file_path) # Save as html file\n",
    "    webbrowser.open(file_path) # Default browser open"
   ],
   "metadata": {
    "collapsed": false,
    "pycharm": {
     "name": "#%% \n",
     "is_executing": false
    }
   }
  },
  {
   "cell_type": "code",
   "execution_count": null,
   "outputs": [],
   "source": [
    "def group_by_city(data, address_column_name, id_column_name = 'id'):\n",
    "    unique_places = data.groupby(address_column_name)[id_column_name].nunique()\n",
    "    places = pd.DataFrame({city_column_name:unique_places.index,\n",
    "                           numerical_column_name:unique_places.values})\n",
    "    places[lat_column_name]=np.nan\n",
    "    places[lon_column_name]=np.nan\n",
    "    \n",
    "    return places"
   ],
   "metadata": {
    "collapsed": false,
    "pycharm": {
     "name": "#%%\n"
    }
   }
  },
  {
   "cell_type": "code",
   "execution_count": null,
   "outputs": [],
   "source": [
    "#just join it \n",
    "jjit_json = get_jobs_info()\n",
    "jjit_data = json_normalize(jjit_json)\n",
    "jjit_data.drop(jjit_data[ jjit_data['country_code'] != 'PL' ].index , inplace=True)\n",
    "\n",
    "city_column_name = 'city'\n",
    "grouped_data = group_by_city(jjit_data, city_column_name)\n",
    "places_map = fill_geo_info(grouped_data, city_column_name)\n",
    "print_geo_map(places_map)"
   ],
   "metadata": {
    "collapsed": false,
    "pycharm": {
     "name": "#%%\n"
    }
   }
  }
 ],
 "metadata": {
  "kernelspec": {
   "name": "pycharm-e2780a5f",
   "language": "python",
   "display_name": "PyCharm (Uczenie maszynowe)"
  },
  "language_info": {
   "codemirror_mode": {
    "name": "ipython",
    "version": 3
   },
   "file_extension": ".py",
   "mimetype": "text/x-python",
   "name": "python",
   "nbconvert_exporter": "python",
   "pygments_lexer": "ipython3",
   "version": "3.7.6"
  },
  "pycharm": {
   "stem_cell": {
    "cell_type": "raw",
    "source": [],
    "metadata": {
     "collapsed": false
    }
   }
  }
 },
 "nbformat": 4,
 "nbformat_minor": 2
}