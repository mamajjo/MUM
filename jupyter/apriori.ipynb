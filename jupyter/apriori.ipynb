{
 "cells": [
  {
   "cell_type": "code",
   "execution_count": 1,
   "metadata": {
    "pycharm": {
     "is_executing": false
    }
   },
   "outputs": [],
   "source": [
    "from sklearn import metrics\n",
    "!pip install scipy numpy matplotlib pandas sklearn tabulate seaborn folium geopy geopandas requests> /dev/null\n",
    "%matplotlib notebook"
   ]
  },
  {
   "cell_type": "code",
   "execution_count": 2,
   "metadata": {
    "pycharm": {
     "is_executing": false
    }
   },
   "outputs": [
    {
     "data": {
      "text/plain": "<IPython.core.display.HTML object>",
      "text/html": "<style>.container { width:90% !important; }</style>"
     },
     "metadata": {},
     "output_type": "display_data"
    }
   ],
   "source": [
    "# import importlib\n",
    "# import sys\n",
    "# importlib.reload(sys.modules['statistics.company'])\n",
    "# Load libraries\n",
    "import numpy as np\n",
    "import matplotlib.pyplot as plt\n",
    "import pandas as pd\n",
    "from matplotlib import pyplot\n",
    "from sklearn.model_selection import train_test_split, learning_curve, permutation_test_score\n",
    "from sklearn.model_selection import cross_val_score\n",
    "from sklearn.model_selection import StratifiedKFold\n",
    "from sklearn.preprocessing import normalize\n",
    "from sklearn.metrics import classification_report, roc_auc_score, roc_curve, plot_roc_curve, auc\n",
    "from sklearn.metrics import confusion_matrix\n",
    "from sklearn.metrics import accuracy_score, precision_score, recall_score\n",
    "from sklearn.metrics import plot_confusion_matrix\n",
    "from sklearn.metrics import calinski_harabasz_score, davies_bouldin_score, silhouette_score\n",
    "from sklearn.cluster import KMeans\n",
    "from sklearn.tree import DecisionTreeClassifier\n",
    "from sklearn.neighbors import KNeighborsClassifier\n",
    "from sklearn.naive_bayes import GaussianNB\n",
    "from sklearn.svm import SVC\n",
    "from sklearn.neural_network import MLPClassifier\n",
    "from sklearn.preprocessing import LabelEncoder, OneHotEncoder\n",
    "from tabulate import tabulate\n",
    "from IPython.display import display, HTML\n",
    "display(HTML(\"<style>.container { width:90% !important; }</style>\"))\n",
    "import os\n",
    "import sys\n",
    "sys.path.insert(0, os.path.abspath('/home/jovyan/host-note/module-dir'))"
   ]
  },
  {
   "cell_type": "code",
   "execution_count": 3,
   "metadata": {
    "pycharm": {
     "is_executing": false
    }
   },
   "outputs": [
    {
     "name": "stdout",
     "text": [
      "GetRawDataset - Started\n",
      "GetRawDataset - read_json - DONE\n",
      "GetRawDataset - map_columns_to_csv - DONE\n",
      "GetRawDataset - read_csv - DONE\n",
      "Found 304 job ads without salary range or currency\n",
      "(1249, 840)\n",
      "        salary_from     salary_to\n",
      "count   1249.000000   1249.000000\n",
      "mean   11148.760608  15884.851081\n",
      "std     4540.909690   5114.312359\n",
      "min     1250.000000   1750.000000\n",
      "25%     8000.000000  12100.000000\n",
      "50%    10000.000000  16000.000000\n",
      "75%    14000.000000  19000.000000\n",
      "max    44000.000000  50000.000000\n",
      "Found 8 countries and 4 currencies!\n",
      "Dropping foreign countries and translating currencies...\n",
      "Unique countries: 1, currencies: 1, observations: 1230\n"
     ],
     "output_type": "stream"
    },
    {
     "name": "stderr",
     "text": [
      "/opt/conda/lib/python3.7/site-packages/pandas/core/indexing.py:966: SettingWithCopyWarning: \n",
      "A value is trying to be set on a copy of a slice from a DataFrame.\n",
      "Try using .loc[row_indexer,col_indexer] = value instead\n",
      "\n",
      "See the caveats in the documentation: https://pandas.pydata.org/pandas-docs/stable/user_guide/indexing.html#returning-a-view-versus-a-copy\n",
      "  self.obj[item] = s\n"
     ],
     "output_type": "stream"
    }
   ],
   "source": [
    "from dataset_provider.provider import get_raw_dataset\n",
    "from dataset_provider.config import create_global_config\n",
    "df = get_raw_dataset(create_global_config())"
   ]
  },
  {
   "cell_type": "markdown",
   "metadata": {},
   "source": [
    "---------------------------------------------------------------------------"
   ]
  },
  {
   "cell_type": "markdown",
   "metadata": {},
   "source": [
    "# Regression"
   ]
  },
  {
   "cell_type": "code",
   "execution_count": 4,
   "metadata": {
    "pycharm": {
     "is_executing": false
    }
   },
   "outputs": [
    {
     "name": "stdout",
     "text": [
      "Index(['Unnamed: 0', 'title', 'city', 'country_code', 'marker_icon', 'remote',\n",
      "       'company_name', 'company_size', 'experience_level', 'salary_from',\n",
      "       ...\n",
      "       'test lead', 'typoscript', 'unit tests', 'vendor management', 'vert',\n",
      "       'web/network security', 'workshop', 'yii2', 'środowisko JAVA', 'С#'],\n",
      "      dtype='object', length=840)\n"
     ],
     "output_type": "stream"
    }
   ],
   "source": [
    "print(df.columns)\n",
    "def move_col_to_end(df, col):\n",
    "    cols_at_end = [col]\n",
    "    return df[[c for c in df if c not in cols_at_end] \n",
    "            + [c for c in cols_at_end if c in df]]"
   ]
  },
  {
   "cell_type": "code",
   "execution_count": 5,
   "metadata": {
    "scrolled": true,
    "pycharm": {
     "is_executing": false
    }
   },
   "outputs": [
    {
     "data": {
      "text/plain": "Index(['city', 'remote', 'experience_level', 'salary_from', 'salary_to',\n       'employment_type', '.NET C#', '.NET Core', '.NET Core (5 stars)',\n       '.NET Framework 4.5.1',\n       ...\n       'test lead', 'typoscript', 'unit tests', 'vendor management', 'vert',\n       'web/network security', 'workshop', 'yii2', 'środowisko JAVA', 'С#'],\n      dtype='object', length=827)"
     },
     "metadata": {},
     "output_type": "execute_result",
     "execution_count": 5
    }
   ],
   "source": [
    "cl_df = df.copy()\n",
    "for col in [ \"Unnamed: 0\", \"title\", \"company_size\", \"country_code\", \"marker_icon\", \"company_name\",\n",
    "            \"latitude\", \"longitude\", \"salary_currency\", \"published_at\", \"remote_interview\", \"id\", \"skills\"]:\n",
    "                cl_df=cl_df.drop(col, axis=1)\n",
    "                \n",
    "cl_df.columns\n"
   ]
  },
  {
   "cell_type": "code",
   "execution_count": null,
   "metadata": {
    "pycharm": {
     "is_executing": true,
     "name": "#%%\n"
    }
   },
   "outputs": [
    {
     "name": "stdout",
     "text": [
      "(1230, 827)\n",
      "0\n",
      "1\n",
      "2\n",
      "3\n",
      "4\n"
     ],
     "output_type": "stream"
    }
   ],
   "source": [
    "print(cl_df.shape)\n",
    "\n",
    "records = []\n",
    "for i in range(0, cl_df.shape[0]):\n",
    "    print(i)\n",
    "    records.append([str(cl_df.values[i,j]) for j in range(0,  cl_df.shape[1])])\n",
    "\n",
    "# records = np.zeros(cl_df.shape, str)\n",
    "# for i in range(0, cl_df.shape[0]):\n",
    "#     print(i)\n",
    "#     for j in  range(0,  cl_df.shape[1]):\n",
    "#         records[i][j] = str(cl_df.values[i,j])"
   ]
  },
  {
   "cell_type": "code",
   "execution_count": null,
   "outputs": [],
   "source": [
    "print(records)"
   ],
   "metadata": {
    "collapsed": false,
    "pycharm": {
     "name": "#%%\n",
     "is_executing": false
    }
   }
  },
  {
   "cell_type": "code",
   "execution_count": null,
   "outputs": [],
   "source": [
    "!pip install apriori\n",
    "from apyori import apriori\n",
    "\n",
    "association_rules = apriori(records, min_support=0.0045, min_confidence=0.2, min_lift=3, min_length=2)\n",
    "association_results = list(association_rules)\n"
   ],
   "metadata": {
    "collapsed": false,
    "pycharm": {
     "name": "#%%\n",
     "is_executing": false
    }
   }
  }
 ],
 "metadata": {
  "kernelspec": {
   "display_name": "Python 3",
   "language": "python",
   "name": "python3"
  },
  "language_info": {
   "codemirror_mode": {
    "name": "ipython",
    "version": 3
   },
   "file_extension": ".py",
   "mimetype": "text/x-python",
   "name": "python",
   "nbconvert_exporter": "python",
   "pygments_lexer": "ipython3",
   "version": "3.7.6"
  },
  "pycharm": {
   "stem_cell": {
    "cell_type": "raw",
    "source": [],
    "metadata": {
     "collapsed": false
    }
   }
  }
 },
 "nbformat": 4,
 "nbformat_minor": 2
}