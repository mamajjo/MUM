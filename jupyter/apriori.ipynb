{
 "cells": [
  {
   "cell_type": "code",
   "execution_count": 11,
   "metadata": {
    "pycharm": {
     "is_executing": false
    }
   },
   "outputs": [],
   "source": [
    "from sklearn import metrics\n",
    "!pip install scipy numpy matplotlib pandas sklearn tabulate seaborn folium geopy geopandas requests> /dev/null\n",
    "%matplotlib notebook"
   ]
  },
  {
   "cell_type": "code",
   "execution_count": 12,
   "metadata": {
    "pycharm": {
     "is_executing": false
    }
   },
   "outputs": [
    {
     "data": {
      "text/html": [
       "<style>.container { width:90% !important; }</style>"
      ],
      "text/plain": [
       "<IPython.core.display.HTML object>"
      ]
     },
     "metadata": {},
     "output_type": "display_data"
    }
   ],
   "source": [
    "# import importlib\n",
    "# import sys\n",
    "# importlib.reload(sys.modules['statistics.company'])\n",
    "# Load libraries\n",
    "import numpy as np\n",
    "import matplotlib.pyplot as plt\n",
    "import pandas as pd\n",
    "from matplotlib import pyplot\n",
    "from sklearn.model_selection import train_test_split, learning_curve, permutation_test_score\n",
    "from sklearn.model_selection import cross_val_score\n",
    "from sklearn.model_selection import StratifiedKFold\n",
    "from sklearn.preprocessing import normalize\n",
    "from sklearn.metrics import classification_report, roc_auc_score, roc_curve, plot_roc_curve, auc\n",
    "from sklearn.metrics import confusion_matrix\n",
    "from sklearn.metrics import accuracy_score, precision_score, recall_score\n",
    "from sklearn.metrics import plot_confusion_matrix\n",
    "from sklearn.metrics import calinski_harabasz_score, davies_bouldin_score, silhouette_score\n",
    "from sklearn.cluster import KMeans\n",
    "from sklearn.tree import DecisionTreeClassifier\n",
    "from sklearn.neighbors import KNeighborsClassifier\n",
    "from sklearn.naive_bayes import GaussianNB\n",
    "from sklearn.svm import SVC\n",
    "from sklearn.neural_network import MLPClassifier\n",
    "from sklearn.preprocessing import LabelEncoder, OneHotEncoder\n",
    "from tabulate import tabulate\n",
    "from IPython.display import display, HTML\n",
    "display(HTML(\"<style>.container { width:90% !important; }</style>\"))\n",
    "import os\n",
    "import sys\n",
    "sys.path.insert(0, os.path.abspath('/home/jovyan/host-note/module-dir'))"
   ]
  },
  {
   "cell_type": "code",
   "execution_count": 13,
   "metadata": {
    "pycharm": {
     "is_executing": false
    }
   },
   "outputs": [
    {
     "name": "stdout",
     "output_type": "stream",
     "text": [
      "GetRawDataset - Started\n",
      "GetRawDataset - read_json - DONE\n",
      "GetRawDataset - map_columns_to_csv - DONE\n",
      "GetRawDataset - read_csv - DONE\n",
      "Found 304 job ads without salary range or currency\n",
      "(1249, 527)\n",
      "        salary_from     salary_to\n",
      "count   1249.000000   1249.000000\n",
      "mean   11148.760608  15884.851081\n",
      "std     4540.909690   5114.312359\n",
      "min     1250.000000   1750.000000\n",
      "25%     8000.000000  12100.000000\n",
      "50%    10000.000000  16000.000000\n",
      "75%    14000.000000  19000.000000\n",
      "max    44000.000000  50000.000000\n",
      "Found 8 countries and 4 currencies!\n",
      "Dropping foreign countries and translating currencies...\n"
     ]
    },
    {
     "name": "stderr",
     "output_type": "stream",
     "text": [
      "/opt/conda/lib/python3.7/site-packages/IPython/core/interactiveshell.py:3254: DtypeWarning: Columns (24,25,27,28,29,30,32,35,36,37,38,40,43,45,46,48,49,50,53,58,60,61,62,63,64,66,68,69,70,71,73,74,76,77,78,80,82,83,84,86,88,90,91,92,93,94,96,97,98,102,103,105,107,108,109,110,111,112,113,114,115,119,120,121,123,124,126,127,130,131,132,133,134,135,138,141,142,143,144,145,148,149,151,152,153,154,155,156,161,162,163,165,166,167,170,171,172,173,177,180,182,185,186,187,188,189,190,191,194,195,196,197,198,200,201,206,207,208,209,210,211,212,213,214,215,218,220,221,222,223,224,225,226,227,229,231,232,235,236,238,239,240,241,243,244,245,249,250,251,254,257,258,259,264,265,269,270,272,273,275,276,279,282,283,287,288,289,291,292,294,295,297,298,299,300,301,305,308,312,313,315,317,318,319,321,322,323,326,327,332,333,334,337,338,339,340,341,343,344,345,348,351,352,353,355,356,357,358,359,360,362,363,365,366,368,369,370,371,372,373,374,375,378,379,380,385,387,391,393,396,397,398,399,400,401,402,404,405,406,407,408,409,410,413,415,417,419,420,421,422,423,424,425,427,429,430,432,434,435,436,438,440,441,443,444,445,446,447,448,451,452,455,456,457,458,459,460,461,462,463,464,465,467,468,470,472,473,475,477,478,479,480,481,482,485,487,490,491,492,493,495,496,497,498,500,502,503,504,505,506,507,508,509,510,511,512,513,514,515,516,518,519,520,521,522,523,524,525,526,527,528,529,530) have mixed types.Specify dtype option on import or set low_memory=False.\n",
      "  if (await self.run_code(code, result,  async_=asy)):\n",
      "/opt/conda/lib/python3.7/site-packages/pandas/core/indexing.py:966: SettingWithCopyWarning: \n",
      "A value is trying to be set on a copy of a slice from a DataFrame.\n",
      "Try using .loc[row_indexer,col_indexer] = value instead\n",
      "\n",
      "See the caveats in the documentation: https://pandas.pydata.org/pandas-docs/stable/user_guide/indexing.html#returning-a-view-versus-a-copy\n",
      "  self.obj[item] = s\n"
     ]
    },
    {
     "name": "stdout",
     "output_type": "stream",
     "text": [
      "Unique countries: 1, currencies: 1, observations: 1230\n"
     ]
    }
   ],
   "source": [
    "import importlib\n",
    "import sys\n",
    "importlib.reload(sys.modules['dataset_provider.provider'])\n",
    "from dataset_provider.provider import get_raw_dataset\n",
    "from dataset_provider.config import create_global_config\n",
    "df = get_raw_dataset(create_global_config())"
   ]
  },
  {
   "cell_type": "markdown",
   "metadata": {},
   "source": [
    "---------------------------------------------------------------------------"
   ]
  },
  {
   "cell_type": "markdown",
   "metadata": {},
   "source": [
    "# Regression"
   ]
  },
  {
   "cell_type": "code",
   "execution_count": 14,
   "metadata": {
    "pycharm": {
     "is_executing": false
    }
   },
   "outputs": [
    {
     "name": "stdout",
     "output_type": "stream",
     "text": [
      "Index(['Unnamed: 0', 'title', 'city', 'country_code', 'marker_icon', 'remote',\n",
      "       'company_name', 'company_size', 'experience_level', 'salary_from',\n",
      "       ...\n",
      "       'narzędzi do prototypowania', 'nestJS', 'Oracle DB', 'ownership',\n",
      "       'people-focused design mindset', 'self-organisation', 'Servers', 'soar',\n",
      "       'Vert.x', 'workshop'],\n",
      "      dtype='object', length=527)\n"
     ]
    }
   ],
   "source": [
    "print(df.columns)\n",
    "def move_col_to_end(df, col):\n",
    "    cols_at_end = [col]\n",
    "    return df[[c for c in df if c not in cols_at_end] \n",
    "            + [c for c in cols_at_end if c in df]]"
   ]
  },
  {
   "cell_type": "code",
   "execution_count": 45,
   "metadata": {
    "pycharm": {
     "is_executing": false
    },
    "scrolled": true
   },
   "outputs": [
    {
     "data": {
      "text/plain": [
       "['Szczecin', 'JavaScript', 'Node.js', 'TypeScript']"
      ]
     },
     "execution_count": 45,
     "metadata": {},
     "output_type": "execute_result"
    }
   ],
   "source": [
    "cl_df = df.copy()\n",
    "for col in [\"employment_type\", \"experience_level\", \"remote\", \"salary_to\", \"salary_from\", \"Unnamed: 0\", \"title\", \"company_size\", \"country_code\", \"marker_icon\", \"company_name\",\n",
    "            \"latitude\", \"longitude\", \"salary_currency\", \"published_at\", \"remote_interview\", \"id\", \"skills\"]:\n",
    "                cl_df=cl_df.drop(col, axis=1)\n",
    "                \n",
    "cl_df.columns\n",
    "cl_df = cl_df.astype(str)\n",
    "ass_df = [[x for x in row if x != \"0\"] for row in cl_df.values]\n",
    "ass_df[0]"
   ]
  },
  {
   "cell_type": "code",
   "execution_count": 46,
   "metadata": {},
   "outputs": [],
   "source": [
    "!pip install mlxtend > /dev/null"
   ]
  },
  {
   "cell_type": "code",
   "execution_count": 80,
   "metadata": {},
   "outputs": [],
   "source": [
    "def filter_by_skill(data_frame, skill):\n",
    "    cp = data_frame.copy()\n",
    "    return cp.loc[(cp['antecedents'].apply(lambda x: x.issuperset({skill}))) | (cp['consequents'].apply(lambda x: x.issuperset({skill})))]\n",
    "\n",
    "def require_antecetends(data_frame, skill):\n",
    "    cp = data_frame.copy()\n",
    "    return cp.loc[(cp['antecedents'].apply(lambda x: x.issuperset({skill})))]"
   ]
  },
  {
   "cell_type": "code",
   "execution_count": 83,
   "metadata": {
    "pycharm": {
     "is_executing": false,
     "name": "#%%\n"
    }
   },
   "outputs": [
    {
     "data": {
      "text/html": [
       "<div>\n",
       "<style scoped>\n",
       "    .dataframe tbody tr th:only-of-type {\n",
       "        vertical-align: middle;\n",
       "    }\n",
       "\n",
       "    .dataframe tbody tr th {\n",
       "        vertical-align: top;\n",
       "    }\n",
       "\n",
       "    .dataframe thead th {\n",
       "        text-align: right;\n",
       "    }\n",
       "</style>\n",
       "<table border=\"1\" class=\"dataframe\">\n",
       "  <thead>\n",
       "    <tr style=\"text-align: right;\">\n",
       "      <th></th>\n",
       "      <th>antecedents</th>\n",
       "      <th>consequents</th>\n",
       "      <th>antecedent support</th>\n",
       "      <th>consequent support</th>\n",
       "      <th>support</th>\n",
       "      <th>confidence</th>\n",
       "      <th>lift</th>\n",
       "      <th>leverage</th>\n",
       "      <th>conviction</th>\n",
       "    </tr>\n",
       "  </thead>\n",
       "  <tbody>\n",
       "  </tbody>\n",
       "</table>\n",
       "</div>"
      ],
      "text/plain": [
       "Empty DataFrame\n",
       "Columns: [antecedents, consequents, antecedent support, consequent support, support, confidence, lift, leverage, conviction]\n",
       "Index: []"
      ]
     },
     "execution_count": 83,
     "metadata": {},
     "output_type": "execute_result"
    }
   ],
   "source": [
    "import pandas as pd\n",
    "from mlxtend.preprocessing import TransactionEncoder\n",
    "from mlxtend.frequent_patterns import apriori\n",
    "from mlxtend.frequent_patterns import association_rules\n",
    "\n",
    "def assocation_rules():\n",
    "    te = TransactionEncoder()\n",
    "    te_ary = te.fit(ass_df).transform(ass_df)\n",
    "    f_df = pd.DataFrame(te_ary, columns=te.columns_)\n",
    "\n",
    "    frequent_itemsets = apriori(f_df, min_support=0.008, use_colnames=True)\n",
    "    # frequent_itemsets['length'] = frequent_itemsets['itemsets'].apply(lambda x: len(x))\n",
    "    rules = association_rules(frequent_itemsets, metric=\"confidence\", min_threshold=0.4)\n",
    "    rules.sort_values(['confidence', 'support'], ascending=False)\n",
    "    # filter_by_skill(rules, 'permanent')\n",
    "    require_antecetends(rules, 'Ruby').sort_values(['confidence', 'support'], ascending=False)"
   ]
  },
  {
   "cell_type": "code",
   "execution_count": null,
   "metadata": {},
   "outputs": [],
   "source": []
  }
 ],
 "metadata": {
  "kernelspec": {
   "display_name": "Python 3",
   "language": "python",
   "name": "python3"
  },
  "language_info": {
   "codemirror_mode": {
    "name": "ipython",
    "version": 3
   },
   "file_extension": ".py",
   "mimetype": "text/x-python",
   "name": "python",
   "nbconvert_exporter": "python",
   "pygments_lexer": "ipython3",
   "version": "3.7.6"
  },
  "pycharm": {
   "stem_cell": {
    "cell_type": "raw",
    "metadata": {
     "collapsed": false
    },
    "source": []
   }
  }
 },
 "nbformat": 4,
 "nbformat_minor": 2
}
