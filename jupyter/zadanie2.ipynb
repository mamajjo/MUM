{
 "cells": [
  {
   "cell_type": "markdown",
   "metadata": {},
   "source": [
    "<h1><center>Metody uczenia maszynowego</center></h1>\n",
    "<h3><center><ul style=\"list-style: none;\">\n",
    "    <li>Patrycja Szczakowska ???</li>\n",
    "    <li>Maciej Majchrowski ???</li>\n",
    "    <li>Mateusz Gałasiński 234054</li>\n",
    "    <li>Jakub Kurek 234078</li>\n",
    "    </ul></center></h3> \n",
    "<h2><center>Zadanie 2 - Klastryzacja danych - uczenie nienadzorowane</center></h2>"
   ]
  },
  {
   "cell_type": "markdown",
   "metadata": {},
   "source": [
    "### Zależności\n",
    "*Dodatkowe zewnętrzne biblioteki, instalowane dzięki IPython \"magic commands\"*"
   ]
  },
  {
   "cell_type": "code",
   "execution_count": null,
   "metadata": {},
   "outputs": [],
   "source": [
    "# install additional packages\n",
    "!pip install k3d > /dev/null"
   ]
  },
  {
   "cell_type": "code",
   "execution_count": null,
   "metadata": {},
   "outputs": [],
   "source": [
    "from pathlib import Path\n",
    "import matplotlib\n",
    "import matplotlib.pyplot as plt\n",
    "from pandas import read_csv\n",
    "import json\n",
    "%matplotlib notebook"
   ]
  },
  {
   "cell_type": "markdown",
   "metadata": {},
   "source": [
    "## Konfiguracja"
   ]
  },
  {
   "cell_type": "code",
   "execution_count": null,
   "metadata": {},
   "outputs": [],
   "source": [
    "class Config(object):\n",
    "    def __init__(self, dataSourceUrl, dataDelimiter, quantitativeColumns, qualitativeColumns):\n",
    "        self.dataSourceUrl = dataSourceUrl\n",
    "        self.dataDelimiter = dataDelimiter\n",
    "        self.quantitativeColumns = quantitativeColumns\n",
    "        self.qualitativeColumns = qualitativeColumns\n",
    "def as_config(dct):\n",
    "    return Config(\n",
    "        dct['dataSourceUrl'],\n",
    "        dct['dataDelimiter'],\n",
    "        dct['quantitativeColumns'],\n",
    "        dct['qualitativeColumns'],)\n",
    "json_config =\"\"\"\n",
    "{\n",
    "    \"dataSourceUrl\": \"/home/jovyan/host-note/data/winequality-white.csv\",\n",
    "    \"dataDelimiter\": \";\",\n",
    "    \"quantitativeColumns\": [\n",
    "        \"season\"\n",
    "    ],\n",
    "    \"qualitativeColumns\": [\n",
    "        \"age\"\n",
    "    ]\n",
    "}\"\"\"\n",
    "config = json.loads(json_config, object_hook = as_config)"
   ]
  },
  {
   "cell_type": "markdown",
   "metadata": {},
   "source": [
    "## Opis zbiorów danych"
   ]
  },
  {
   "cell_type": "code",
   "execution_count": null,
   "metadata": {},
   "outputs": [],
   "source": [
    "for line in [line for line in Path(config.dataSourceUrl).read_text().splitlines()[:20] if line]:\n",
    "    print(line)"
   ]
  },
  {
   "cell_type": "markdown",
   "metadata": {},
   "source": [
    "## Wczytanie zbioru danych"
   ]
  },
  {
   "cell_type": "code",
   "execution_count": null,
   "metadata": {},
   "outputs": [],
   "source": [
    "# from pandas.plotting import scatter_matrix\n",
    "\n",
    "def load_dataset():\n",
    "    global dataset\n",
    "    dataset = read_csv(config.dataSourceUrl, delimiter=config.dataDelimiter, header=0)\n",
    "#     global qualitativeDataset = dataset[config.qualitativeColumns]\n",
    "#     global quantitativeDataset = dataset[config.quantitativeColumns]\n",
    "#     quantitativeDataset.corr()\n",
    "#     qualitativeDataset.mode()\n",
    "    # dataset.plot(kind='box', subplots=True, sharex=False, sharey=False)\n",
    "    # pyplot.show()\n",
    "\n",
    "    # scatter_matrix(dataset)\n",
    "    # pyplot.show()\n",
    "    print(dataset.shape)\n",
    "    dataset.describe()"
   ]
  },
  {
   "cell_type": "markdown",
   "metadata": {},
   "source": [
    "# Pętla aplikacji"
   ]
  },
  {
   "cell_type": "code",
   "execution_count": null,
   "metadata": {
    "scrolled": false
   },
   "outputs": [],
   "source": [
    "import sklearn\n",
    "from uuid import uuid4\n",
    "from sklearn.model_selection import StratifiedKFold, train_test_split, cross_val_score\n",
    "from sklearn.metrics import calinski_harabasz_score, pairwise_distances, davies_bouldin_score, adjusted_rand_score, adjusted_mutual_info_score, homogeneity_score, completeness_score, homogeneity_completeness_v_measure, v_measure_score, silhouette_score\n",
    "from sklearn.cluster import KMeans, DBSCAN, AgglomerativeClustering, OPTICS, cluster_optics_dbscan\n",
    "from sklearn.mixture import GaussianMixture\n",
    "from sklearn.preprocessing import StandardScaler\n",
    "\n",
    "load_dataset()\n",
    "\n",
    "array = dataset.values\n",
    "x = array[:,0:len(dataset.columns)-1]\n",
    "x = StandardScaler().fit_transform(x)\n",
    "labels_true = array[:,len(dataset.columns)-1]\n",
    "\n",
    "### Define algorithms\n",
    "models = []\n",
    "models.extend([\n",
    "    (f\"AgglomerativeClustering-{linkage}\", AgglomerativeClustering(linkage=linkage, n_clusters=10), 0)\n",
    "    for linkage in ['ward', 'average', 'complete', 'single']])\n",
    "models.extend([\n",
    "    (f\"GaussianMixture-{covariance_type}\", GaussianMixture(covariance_type=covariance_type), 0)\n",
    "    for covariance_type in ['full', 'tied', 'diag', 'spherical']])\n",
    "models.extend([\n",
    "    ('DBSCAN', DBSCAN(eps=0.1, min_samples=2), 0),\n",
    "    ('OPTICS', OPTICS(min_samples=50, xi=.05, min_cluster_size=.05), 0),\n",
    "    ('KNN', KMeans(n_clusters=3, random_state=1), 0),\n",
    "])\n",
    "\n",
    "### Run for all algorithms\n",
    "results = []\n",
    "names = []\n",
    "for name, model, subplot_row in models:\n",
    "    print(f\"---------------------------\\nRunning clustering for: {name}\")\n",
    "    labels = []\n",
    "    if 'GaussianMixture' in name:\n",
    "        labels = model.fit_predict(x)\n",
    "    elif 'OPTICS' in name:\n",
    "        clustering = model.fit(x)\n",
    "        labels = cluster_optics_dbscan(reachability=clustering.reachability_,\n",
    "                                   core_distances=clustering.core_distances_,\n",
    "                                   ordering=clustering.ordering_, eps=0.5)\n",
    "    else:\n",
    "        clustering = model.fit(x)\n",
    "        labels=clustering.labels_\n",
    "### Results \n",
    "    print(\"Homogeneity: %0.3f\" % homogeneity_score(labels_true, labels))\n",
    "    print(\"Completeness: %0.3f\" % completeness_score(labels_true, labels))\n",
    "    print(\"V-measure: %0.3f\" % v_measure_score(labels_true, labels))\n",
    "    print(\"Adjusted Rand Index: %0.3f\" % adjusted_rand_score(labels_true, labels))\n",
    "    print(\"Adjusted Mutual Information: %0.3f\" % adjusted_mutual_info_score(labels_true, labels))\n",
    "    if len(set(labels)) > 1:\n",
    "        print(f\"Quality: {davies_bouldin_score(x, labels)}\")\n",
    "        print(\"Silhouette Coefficient: %0.3f\" % silhouette_score(x, labels))\n",
    "    print(f\"n_clusters_: {len(set(labels)) - (1 if -1 in labels else 0)}\")\n",
    "    print(f\"n_noise_: {list(labels).count(-1)}\")\n",
    "\n",
    "### Plots\n",
    "    # Black removed and is used for noise instead.\n",
    "    unique_labels = set(labels)\n",
    "    colors = [plt.cm.Spectral(each)\n",
    "              for each in np.linspace(0, 1, len(unique_labels))]\n",
    "    core_samples_mask = np.zeros_like(labels, dtype=bool)\n",
    "    if name == \"DBSCAN\":\n",
    "        core_samples_mask[clustering.core_sample_indices_] = True\n",
    "    for k, col in zip(unique_labels, colors):\n",
    "        if k == -1:\n",
    "            # Black used for noise.\n",
    "            col = [0, 0, 0, 1]\n",
    "\n",
    "        class_member_mask = (labels == k)\n",
    "\n",
    "        xy = x[class_member_mask & core_samples_mask]\n",
    "        plt.plot(xy[:, 0], xy[:, 1], 'o', markerfacecolor=tuple(col),\n",
    "                 markeredgecolor='k', markersize=14)\n",
    "\n",
    "#         xy = x[class_member_mask & ~core_samples_mask]\n",
    "#         plt.plot(xy[:, 0], xy[:, 1], 'o', markerfacecolor=tuple(col),\n",
    "#                  markeredgecolor='k', markersize=6)\n",
    "    plt.title(name)\n",
    "    plt.show()"
   ]
  }
 ],
 "metadata": {
  "kernelspec": {
   "display_name": "Python 3",
   "language": "python",
   "name": "python3"
  },
  "language_info": {
   "codemirror_mode": {
    "name": "ipython",
    "version": 3
   },
   "file_extension": ".py",
   "mimetype": "text/x-python",
   "name": "python",
   "nbconvert_exporter": "python",
   "pygments_lexer": "ipython3",
   "version": "3.7.6"
  }
 },
 "nbformat": 4,
 "nbformat_minor": 4
}
