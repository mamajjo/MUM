{
 "cells": [
  {
   "cell_type": "markdown",
   "metadata": {},
   "source": [
    "<h1><center>Metody uczenia maszynowego</center></h1>\n",
    "<h3><center><ul style=\"list-style: none;\">\n",
    "    <li>Patrycja Szczakowska ???</li>\n",
    "    <li>Maciej Majchrowski ???</li>\n",
    "    <li>Bartosz Janicki ???</li>\n",
    "    <li>Mateusz Gałasiński 234054</li>\n",
    "    <li>Jakub Kurek 234078</li>\n",
    "    </ul></center></h3> \n",
    "<h2><center>Zadanie 2 - Klastryzacja danych - uczenie nienadzorowane</center></h2>"
   ]
  },
  {
   "cell_type": "markdown",
   "metadata": {},
   "source": [
    "### Zależności\n",
    "*Dodatkowe zewnętrzne biblioteki, instalowane dzięki IPython \"magic commands\"*"
   ]
  },
  {
   "cell_type": "code",
   "execution_count": null,
   "metadata": {},
   "outputs": [],
   "source": [
    "# install additional packages\n",
    "!pip install k3d > /dev/null\n",
    "!pip install fuzzy-c-means > /dev/null"
   ]
  },
  {
   "cell_type": "markdown",
   "metadata": {},
   "source": [
    "### Imports"
   ]
  },
  {
   "cell_type": "code",
   "execution_count": null,
   "metadata": {},
   "outputs": [],
   "source": [
    "from pathlib import Path\n",
    "import matplotlib\n",
    "from mpl_toolkits import mplot3d\n",
    "import matplotlib.pyplot as plt\n",
    "plt.rcParams.update({'figure.max_open_warning': 0}) # Do not warn about high memory consumption\n",
    "from pandas import read_csv\n",
    "import json\n",
    "%matplotlib notebook"
   ]
  },
  {
   "cell_type": "code",
   "execution_count": null,
   "metadata": {},
   "outputs": [],
   "source": [
    "import sklearn\n",
    "from uuid import uuid4\n",
    "from sklearn import datasets\n",
    "from sklearn.model_selection import StratifiedKFold, train_test_split, cross_val_score\n",
    "from sklearn.metrics import calinski_harabasz_score, pairwise_distances, davies_bouldin_score, adjusted_rand_score, adjusted_mutual_info_score, homogeneity_score, completeness_score, homogeneity_completeness_v_measure, v_measure_score, silhouette_score\n",
    "from sklearn.cluster import KMeans, DBSCAN, AgglomerativeClustering, OPTICS, cluster_optics_dbscan\n",
    "from sklearn.mixture import GaussianMixture\n",
    "from sklearn.preprocessing import StandardScaler\n",
    "import numpy as np\n",
    "from fcmeans import FCM"
   ]
  },
  {
   "cell_type": "markdown",
   "metadata": {},
   "source": [
    "## Konfiguracja"
   ]
  },
  {
   "cell_type": "code",
   "execution_count": null,
   "metadata": {},
   "outputs": [],
   "source": [
    "class Config(object):\n",
    "    def __init__(self, dataSourceUrl, dataDelimiter, n_clusters, eps, min_samples, xi, min_cluster_size, m, ndims):\n",
    "        self.dataSourceUrl = dataSourceUrl\n",
    "        self.dataDelimiter = dataDelimiter\n",
    "        self.n_clusters = n_clusters\n",
    "        self.eps = eps\n",
    "        self.min_samples = min_samples\n",
    "        self.xi = xi\n",
    "        self.min_cluster_size = min_cluster_size\n",
    "        self.m = m\n",
    "        self.ndims = ndims\n",
    "def as_config(dct):\n",
    "    return Config(\n",
    "        dct['dataSourceUrl'],\n",
    "        dct['dataDelimiter'],\n",
    "        dct['n_clusters'],\n",
    "        dct['eps'],\n",
    "        dct['min_samples'],\n",
    "        dct['xi'],\n",
    "        dct['min_cluster_size'],\n",
    "        dct['m'],\n",
    "        dct['ndims'],\n",
    "    )"
   ]
  },
  {
   "cell_type": "markdown",
   "metadata": {},
   "source": [
    "## Wczytanie zbioru danych"
   ]
  },
  {
   "cell_type": "code",
   "execution_count": null,
   "metadata": {},
   "outputs": [],
   "source": [
    "# from pandas.plotting import scatter_matrix\n",
    "\n",
    "def load_dataset():\n",
    "    # show 5 rows from data\n",
    "    for line in [line for line in Path(config.dataSourceUrl).read_text().splitlines()[:5] if line]:\n",
    "        print(line)\n",
    "\n",
    "    global dataset\n",
    "    dataset = read_csv(config.dataSourceUrl, delimiter=config.dataDelimiter, header=0)\n",
    "    print(f\"Data set shape: {dataset.shape}\")\n",
    "    dataset.describe()"
   ]
  },
  {
   "cell_type": "code",
   "execution_count": null,
   "metadata": {},
   "outputs": [],
   "source": [
    "from math import sqrt\n",
    "def annot_elbow(x,y,ax=None):\n",
    "    arg = x[0]\n",
    "    val = y[0]\n",
    "    for i, a in enumerate(x):\n",
    "        if (a+2)*sqrt(y[i]) < (arg+2)*sqrt(val):\n",
    "            arg = a\n",
    "            val = y[i]\n",
    "    val = np.argmin(y)\n",
    "    text= \"x={:.3f}, y={:.3f}\".format(arg, val)\n",
    "    if not ax:\n",
    "        ax=plt.gca()\n",
    "    bbox_props = dict(boxstyle=\"square,pad=0.3\", fc=\"w\", ec=\"k\", lw=0.72)\n",
    "    arrowprops=dict(arrowstyle=\"->\")\n",
    "    kw = dict(xycoords='data',textcoords=\"axes fraction\",\n",
    "              arrowprops=arrowprops,\n",
    "              bbox=bbox_props, ha=\"right\", va=\"top\")\n",
    "    ax.annotate(text, xy=(arg, val), xytext=(0.5,-0.05), **kw)"
   ]
  },
  {
   "cell_type": "code",
   "execution_count": null,
   "metadata": {},
   "outputs": [],
   "source": [
    "def scatter3d(x, labels):\n",
    "    fig = plt.figure(figsize=(12, 6), dpi=60)\n",
    "    ax = plt.axes(projection=\"3d\")\n",
    "    ax.scatter3D(x[:, 0:1], x[:, 1:2], x[:, 2:3], c=labels, cmap='inferno');\n",
    "    plt.show()"
   ]
  },
  {
   "cell_type": "code",
   "execution_count": null,
   "metadata": {},
   "outputs": [],
   "source": [
    "def classify_each(x, labels_true=None):\n",
    "    models = []\n",
    "    models.extend([\n",
    "        (f\"AgglomerativeClustering-{linkage}\", AgglomerativeClustering(linkage=linkage, n_clusters=config.n_clusters))\n",
    "        for linkage in ['ward', 'average', 'complete', 'single']])\n",
    "    models.extend([\n",
    "        (f\"GaussianMixture-{covariance_type}\", GaussianMixture(n_components=config.n_clusters, covariance_type=covariance_type))\n",
    "        for covariance_type in ['full', 'tied', 'diag', 'spherical']])\n",
    "    models.extend([\n",
    "        ('DBSCAN', DBSCAN(eps=config.eps, min_samples=config.min_samples)),\n",
    "        ('OPTICS', OPTICS(min_samples=config.min_samples, xi=config.xi, min_cluster_size=config.min_cluster_size)),\n",
    "        ('KNN', KMeans(n_clusters=config.n_clusters, random_state=1)),\n",
    "        ('FCM', FCM(n_clusters=config.n_clusters, m=config.m))\n",
    "    ])\n",
    "\n",
    "    results = []\n",
    "    names = []\n",
    "    for i, (name, model) in enumerate(models):\n",
    "        print(f\"---------------------------\\nRunning clustering for: {name}\")\n",
    "        labels = []\n",
    "        if 'GaussianMixture' in name:\n",
    "            labels = model.fit_predict(x)\n",
    "        elif 'OPTICS' in name:\n",
    "            clustering = model.fit(x)\n",
    "            labels = cluster_optics_dbscan(reachability=clustering.reachability_,\n",
    "                                       core_distances=clustering.core_distances_,\n",
    "                                       ordering=clustering.ordering_, eps=config.eps)\n",
    "        elif 'FCM' in name:\n",
    "            clustering = model.fit(x)\n",
    "            labels  = model.u.argmax(axis=1)\n",
    "        else:\n",
    "            clustering = model.fit(x)\n",
    "            labels=clustering.labels_\n",
    "    ### Results \n",
    "        if labels_true:\n",
    "            print(\"Homogeneity: %0.3f\" % homogeneity_score(labels_true, labels))\n",
    "            print(\"Completeness: %0.3f\" % completeness_score(labels_true, labels))\n",
    "            print(\"V-measure: %0.3f\" % v_measure_score(labels_true, labels))\n",
    "            print(\"Adjusted Rand Index: %0.3f\" % adjusted_rand_score(labels_true, labels))\n",
    "            print(\"Adjusted Mutual Information: %0.3f\" % adjusted_mutual_info_score(labels_true, labels))\n",
    "        if len(set(labels)) > 1:\n",
    "            print(f\"Quality: {davies_bouldin_score(x, labels)}\")\n",
    "            print(\"Silhouette Coefficient: %0.3f\" % silhouette_score(x, labels))\n",
    "        print(f\"n_clusters_: {len(set(labels)) - (1 if -1 in labels else 0)}\")\n",
    "        print(f\"n_noise_: {list(labels).count(-1)}\")\n",
    "\n",
    "    ### Plots\n",
    "        if config.ndims == 3:\n",
    "            scatter3d(x, labels)\n",
    "        else:\n",
    "            fig, axes = plt.subplots(1, 1, figsize=(8,8))\n",
    "            fig.suptitle(name)\n",
    "            # Black removed and is used for noise instead.\n",
    "            unique_labels = set(labels)\n",
    "            colors = [plt.cm.Spectral(each) for each in np.linspace(0, 1, len(unique_labels))]\n",
    "            core_samples_mask = np.zeros_like(labels, dtype=bool)\n",
    "            if name == \"DBSCAN\":\n",
    "                core_samples_mask[clustering.core_sample_indices_] = True\n",
    "            for k, col in zip(unique_labels, colors):\n",
    "                if k == -1:\n",
    "                    # Black used for noise.\n",
    "                    col = [0, 0, 0, 1]\n",
    "\n",
    "                class_member_mask = (labels == k)\n",
    "\n",
    "                xy = x[class_member_mask & core_samples_mask]\n",
    "                axes.plot(xy[:, 0], xy[:, 1], 'o', markerfacecolor=tuple(col),\n",
    "                         markeredgecolor='k', markersize=12)\n",
    "\n",
    "                xy = x[class_member_mask & ~core_samples_mask]\n",
    "                axes.plot(xy[:, 0], xy[:, 1], 'o', markerfacecolor=tuple(col),\n",
    "                         markeredgecolor='k', markersize=6)\n",
    "            plt.show()"
   ]
  },
  {
   "cell_type": "code",
   "execution_count": null,
   "metadata": {},
   "outputs": [],
   "source": [
    "def elbow_knn(x, labels_true=None):\n",
    "    inertias = []\n",
    "    k_range = 15\n",
    "    for k in range(1, k_range):\n",
    "        model = KMeans(n_clusters=k, random_state=1)\n",
    "        clustering = model.fit(x)\n",
    "        labels=clustering.labels_\n",
    "        inertias.append(clustering.inertia_)\n",
    "    ## Results \n",
    "#         if labels_true:\n",
    "#             print(\"Homogeneity: %0.3f\" % homogeneity_score(labels_true, labels))\n",
    "#             print(\"Completeness: %0.3f\" % completeness_score(labels_true, labels))\n",
    "#             print(\"V-measure: %0.3f\" % v_measure_score(labels_true, labels))\n",
    "#             print(\"Adjusted Rand Index: %0.3f\" % adjusted_rand_score(labels_true, labels))\n",
    "#             print(\"Adjusted Mutual Information: %0.3f\" % adjusted_mutual_info_score(labels_true, labels))\n",
    "#         if len(set(labels)) > 1:\n",
    "#             print(f\"Quality: {davies_bouldin_score(x, labels)}\")\n",
    "#             print(\"Silhouette Coefficient: %0.3f\" % silhouette_score(x, labels))\n",
    "#         print(f\"n_clusters_: {len(set(labels)) - (1 if -1 in labels else 0)}\")\n",
    "#         print(f\"n_noise_: {list(labels).count(-1)}\")\n",
    "    ## Plots\n",
    "#         fig, axes = plt.subplots(1, 1, figsize=(8,8))\n",
    "#         fig.suptitle(f\"KNN: {k}\")\n",
    "#         # Black removed and is used for noise instead.\n",
    "#         unique_labels = set(labels)\n",
    "#         colors = [plt.cm.Spectral(each)\n",
    "#                   for each in np.linspace(0, 1, len(unique_labels))]\n",
    "#         core_samples_mask = np.zeros_like(labels, dtype=bool)\n",
    "#         for k, col in zip(unique_labels, colors):\n",
    "#             if k == -1:\n",
    "#                 # Black used for noise.\n",
    "#                 col = [0, 0, 0, 1]\n",
    "\n",
    "#             class_member_mask = (labels == k)\n",
    "\n",
    "#             xy = x[class_member_mask & core_samples_mask]\n",
    "#             axes.plot(xy[:, 0], xy[:, 1], 'o', markerfacecolor=tuple(col),\n",
    "#                      markeredgecolor='k', markersize=14)\n",
    "\n",
    "#             xy = x[class_member_mask & ~core_samples_mask]\n",
    "#             axes.plot(xy[:, 0], xy[:, 1], 'o', markerfacecolor=tuple(col),\n",
    "#                      markeredgecolor='k', markersize=6)\n",
    "#         plt.show()\n",
    "\n",
    "    fig, ax = plt.subplots(1, 1, figsize=(8,8))\n",
    "    fig.suptitle(f\"KNN: inertia vs number of clusters\")\n",
    "    ax.plot(inertias)\n",
    "    annot_elbow(range(1, k_range-1), inertias, ax)\n",
    "    plt.show()"
   ]
  },
  {
   "cell_type": "markdown",
   "metadata": {},
   "source": [
    "# Pętla aplikacji"
   ]
  },
  {
   "cell_type": "code",
   "execution_count": null,
   "metadata": {
    "scrolled": false
   },
   "outputs": [],
   "source": [
    "def main(columns):\n",
    "    load_dataset()\n",
    "    array = dataset.values\n",
    "    x = dataset[columns].values\n",
    "    x = StandardScaler().fit_transform(x)\n",
    "#     labels_true = array[:,len(dataset.columns)-1]\n",
    "    # noisy_circles = datasets.make_circles(n_samples=1500, factor=.5, noise=.05)\n",
    "    # x,y = noisy_circles\n",
    "    # labels_true = y\n",
    "    elbow_knn(x)\n",
    "    classify_each(x)"
   ]
  },
  {
   "cell_type": "code",
   "execution_count": null,
   "metadata": {
    "scrolled": false
   },
   "outputs": [],
   "source": [
    "json_config =\"\"\"\n",
    "{\n",
    "    \"dataSourceUrl\": \"/home/jovyan/host-note/data/Mall_Customers.csv\",\n",
    "    \"dataDelimiter\": \",\",\n",
    "    \"n_clusters\": 5,\n",
    "    \"eps\": 0.5,\n",
    "    \"min_samples\": 9,\n",
    "    \"xi\": 0.05,\n",
    "    \"min_cluster_size\": 0.05,\n",
    "    \"m\": 2,\n",
    "    \"ndims\": 2\n",
    "}\"\"\"\n",
    "config = json.loads(json_config, object_hook = as_config)\n",
    "main(['Inc','SpendScore'])"
   ]
  },
  {
   "cell_type": "code",
   "execution_count": null,
   "metadata": {
    "scrolled": false
   },
   "outputs": [],
   "source": [
    "json_config =\"\"\"\n",
    "{\n",
    "    \"dataSourceUrl\": \"/home/jovyan/host-note/data/USArrests.csv\",\n",
    "    \"dataDelimiter\": \",\",\n",
    "    \"n_clusters\": 4,\n",
    "    \"eps\": 0.1,\n",
    "    \"min_samples\": 50,\n",
    "    \"xi\": 0.05,\n",
    "    \"min_cluster_size\": 0.05,\n",
    "    \"m\": 2,\n",
    "    \"ndims\": 2\n",
    "}\"\"\"\n",
    "config = json.loads(json_config, object_hook = as_config)\n",
    "main(['Murder','Assault'])"
   ]
  },
  {
   "cell_type": "code",
   "execution_count": null,
   "metadata": {
    "scrolled": false
   },
   "outputs": [],
   "source": [
    "json_config =\"\"\"\n",
    "{\n",
    "    \"dataSourceUrl\": \"/home/jovyan/host-note/data/StudentsPerformance.csv\",\n",
    "    \"dataDelimiter\": \",\",\n",
    "    \"n_clusters\": 5,\n",
    "    \"eps\": 0.5,\n",
    "    \"min_samples\": 9,\n",
    "    \"xi\": 0.05,\n",
    "    \"min_cluster_size\": 0.05,\n",
    "    \"m\": 2,\n",
    "    \"ndims\": 3\n",
    "}\"\"\"\n",
    "config = json.loads(json_config, object_hook = as_config)\n",
    "main(['math score','reading score', 'writing score'])\n"
   ]
  },
  {
   "cell_type": "code",
   "execution_count": null,
   "metadata": {},
   "outputs": [],
   "source": [
    "json_config =\"\"\"\n",
    "{\n",
    "    \"dataSourceUrl\": \"/home/jovyan/host-note/data/cancer.csv\",\n",
    "    \"dataDelimiter\": \",\",\n",
    "    \"n_clusters\": 5,\n",
    "    \"eps\": 0.5,\n",
    "    \"min_samples\": 9,\n",
    "    \"xi\": 0.05,\n",
    "    \"min_cluster_size\": 0.05,\n",
    "    \"m\": 2,\n",
    "    \"ndims\": 3\n",
    "}\"\"\"\n",
    "config = json.loads(json_config, object_hook = as_config)\n",
    "main(['radius_mean','texture_mean', 'area_mean'])"
   ]
  }
 ],
 "metadata": {
  "kernelspec": {
   "display_name": "Python 3",
   "language": "python",
   "name": "python3"
  },
  "language_info": {
   "codemirror_mode": {
    "name": "ipython",
    "version": 3
   },
   "file_extension": ".py",
   "mimetype": "text/x-python",
   "name": "python",
   "nbconvert_exporter": "python",
   "pygments_lexer": "ipython3",
   "version": "3.7.6"
  }
 },
 "nbformat": 4,
 "nbformat_minor": 4
}
