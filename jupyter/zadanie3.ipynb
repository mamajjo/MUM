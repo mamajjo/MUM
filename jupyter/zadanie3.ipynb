{
 "cells": [
  {
   "cell_type": "code",
   "execution_count": null,
   "metadata": {
    "pycharm": {
     "is_executing": false
    }
   },
   "outputs": [],
   "source": [
    "!pip install scipy numpy matplotlib pandas sklearn > /dev/null"
   ]
  },
  {
   "cell_type": "code",
   "execution_count": null,
   "metadata": {
    "pycharm": {
     "is_executing": false
    }
   },
   "outputs": [],
   "source": [
    "# Load libraries\n",
    "import numpy as np\n",
    "import matplotlib.pyplot as plt\n",
    "from pandas import read_csv\n",
    "from matplotlib import pyplot\n",
    "from sklearn.model_selection import train_test_split, learning_curve\n",
    "from sklearn.model_selection import cross_val_score\n",
    "from sklearn.model_selection import StratifiedKFold\n",
    "from sklearn.metrics import classification_report, roc_auc_score, roc_curve, plot_roc_curve\n",
    "from sklearn.metrics import confusion_matrix\n",
    "from sklearn.metrics import accuracy_score, precision_score, recall_score\n",
    "from sklearn.metrics import plot_confusion_matrix\n",
    "from sklearn.tree import DecisionTreeClassifier\n",
    "from sklearn.neighbors import KNeighborsClassifier\n",
    "from sklearn.naive_bayes import GaussianNB\n",
    "from sklearn.svm import SVC\n",
    "from sklearn.neural_network import MLPClassifier\n",
    "import json"
   ]
  },
  {
   "cell_type": "markdown",
   "source": [
    "<h2>Dataset configuration</h2>"
   ],
   "metadata": {
    "collapsed": false
   }
  },
  {
   "cell_type": "code",
   "execution_count": null,
   "outputs": [],
   "source": [
    "class Config(object):\n",
    "    def __init__(self, dataSourceUrl, test_size, n_splits, should_describe_data):\n",
    "        self.dataSourceUrl = dataSourceUrl\n",
    "        self.test_size = test_size\n",
    "        self.n_splits = n_splits\n",
    "        self.should_describe_data = should_describe_data\n",
    "\n",
    "def as_config(dict):\n",
    "    dataSetName = dict['chosenDataSet']\n",
    "    return Config(\n",
    "        dict[dataSetName]['dataSourceUrl'],\n",
    "        dict[dataSetName]['test_size'],\n",
    "        dict[dataSetName]['n_splits'],\n",
    "        dict[dataSetName]['should_describe_data'],\n",
    "    )"
   ],
   "metadata": {
    "collapsed": false,
    "pycharm": {
     "name": "#%%\n",
     "is_executing": false
    }
   }
  },
  {
   "cell_type": "code",
   "execution_count": null,
   "metadata": {
    "pycharm": {
     "is_executing": false,
     "name": "#%%\n"
    }
   },
   "outputs": [],
   "source": [
    "json_config = \"\"\"\n",
    "{\n",
    "    \"chosenDataSet\": \"cancer\",\n",
    "    \"iris\":{\n",
    "        \"dataSourceUrl\": \"./data/iris.csv\",\n",
    "        \"test_size\": 0.2,\n",
    "        \"n_splits\": 10,\n",
    "        \"should_describe_data\": true\n",
    "    },\n",
    "    \"wine-quality\":{\n",
    "        \"dataSourceUrl\": \"./data/winequality-white.csv\",\n",
    "        \"test_size\": 0.2,\n",
    "        \"n_splits\": 10,\n",
    "        \"should_describe_data\": true\n",
    "    },\n",
    "    \"glass\": {\n",
    "        \"dataSourceUrl\": \"./data/glass/glass.csv\",\n",
    "        \"test_size\": 0.2,\n",
    "        \"n_splits\": 10,\n",
    "        \"should_describe_data\": true\n",
    "    },\n",
    "    \"cancer\": {\n",
    "        \"dataSourceUrl\": \"./data/cancer.csv\",\n",
    "        \"test_size\": 0.2,\n",
    "        \"n_splits\": 10,\n",
    "        \"should_describe_data\": true\n",
    "    },\n",
    "    \"titanic\": {\n",
    "        \"dataSourceUrl\": \"./data/titanic.csv\",\n",
    "        \"test_size\": 0.2,\n",
    "        \"n_splits\": 10,\n",
    "        \"should_describe_data\": true\n",
    "    }\n",
    "}\"\"\"\n",
    "cfg = json.loads(json_config)\n",
    "cfg = as_config(cfg)"
   ]
  },
  {
   "cell_type": "code",
   "execution_count": null,
   "outputs": [],
   "source": [
    "def plot_show():\n",
    "    pyplot.draw()\n",
    "    pyplot.pause(0.1)\n",
    "\n",
    "def get_specificity(y_validate, y_predicted):\n",
    "    tn, fp, fn, tp = confusion_matrix(y_validate, y_predicted).ravel()\n",
    "    return tn / (tn + fp)\n",
    "    \n",
    "def get_learning_curve(classification_model, name_of_model, x_train, y_train, training_set_enlarging_step=10, scoring=\"accuracy\", number_of_cv_generations=10):\n",
    "    train_sizes = np.linspace(0.1, 1, training_set_enlarging_step)\n",
    "    train_sizes, train_scores, test_scores = \\\n",
    "    learning_curve(classification_model, x_train, y_train, train_sizes=train_sizes, scoring=scoring, cv=number_of_cv_generations)\n",
    "    \n",
    "    plt.figure()\n",
    "    plt.plot(train_sizes, -test_scores.mean(1), 'o-', color=\"r\",\n",
    "         label=name_of_model)\n",
    "    plt.xlabel(\"Train size\")\n",
    "    plt.ylabel(\"Mean Squared Error\")\n",
    "    plt.title('Learning curves %s' % (name))\n",
    "    plt.legend(loc=\"best\")\n",
    "    plt.show()"
   ],
   "metadata": {
    "collapsed": false,
    "pycharm": {
     "name": "#%%\n",
     "is_executing": false
    }
   }
  },
  {
   "cell_type": "markdown",
   "source": [
    "<h2>Load (and describe) dataset</h2>"
   ],
   "metadata": {
    "collapsed": false
   }
  },
  {
   "cell_type": "code",
   "execution_count": null,
   "outputs": [],
   "source": [
    "dataset = read_csv(cfg.dataSourceUrl, header=0)\n",
    "\n",
    "if cfg.should_describe_data:    \n",
    "    print(dataset.shape)\n",
    "    # print(dataset.head(20))\n",
    "    #describe each column\n",
    "    # print(dataset.describe())\n",
    "    classColumnName = dataset.columns[-1]\n",
    "    #print avaiable classes\n",
    "    print(dataset.groupby(classColumnName).size())"
   ],
   "metadata": {
    "collapsed": false,
    "pycharm": {
     "name": "#%%\n",
     "is_executing": false
    }
   }
  },
  {
   "cell_type": "code",
   "execution_count": null,
   "outputs": [],
   "source": [
    "# dataset.plot(kind='box', subplots=True, sharex=False, sharey=False)\n",
    "# self.plot_show()\n",
    "\n",
    "# scatter_matrix(dataset)\n",
    "# self.plot_show()\n"
   ],
   "metadata": {
    "collapsed": false,
    "pycharm": {
     "name": "#%%\n",
     "is_executing": false
    }
   }
  },
  {
   "cell_type": "markdown",
   "source": [
    "<h2>Creating train and test arrays</h2>"
   ],
   "metadata": {
    "collapsed": false
   }
  },
  {
   "cell_type": "code",
   "execution_count": null,
   "outputs": [],
   "source": [
    "array = dataset.values\n",
    "x = array[:,0:len(dataset.columns)-1]\n",
    "y = array[:,len(dataset.columns)-1]\n",
    "#na podstawie x i y otrzymujemy tablice testowe i wynikowe\n",
    "x_train, x_validation, y_train, y_validation = train_test_split(x,y, test_size=cfg.test_size, random_state=1)"
   ],
   "metadata": {
    "collapsed": false,
    "pycharm": {
     "name": "#%%\n",
     "is_executing": false
    }
   }
  },
  {
   "cell_type": "markdown",
   "source": [
    "<h2>Classification models</h2>"
   ],
   "metadata": {
    "collapsed": false
   }
  },
  {
   "cell_type": "code",
   "execution_count": null,
   "outputs": [],
   "source": [
    "models = []\n",
    "models.extend([\n",
    "    ('KNN', KNeighborsClassifier(), 0),\n",
    "    ('CART', DecisionTreeClassifier(), 1),\n",
    "    ('NB', GaussianNB(), 2),\n",
    "    ('SVM', SVC(gamma='auto'), 3),\n",
    "    ('MLP', MLPClassifier(alpha=1e-5, hidden_layer_sizes=(50,10), max_iter=5000), 4)\n",
    "    ])"
   ],
   "metadata": {
    "collapsed": false,
    "pycharm": {
     "name": "#%% \n",
     "is_executing": false
    }
   }
  },
  {
   "cell_type": "markdown",
   "source": [
    "<h2>Classification</h2>\n",
    "kfold - k cross-validation to algorytm polegający na testowaniu nauczania(sprawdzania jego wydajności). \n",
    "Zbiór TESTOWY jest dzielony na K podzbiorów. W każdej z k iteracji,\n",
    "brane jest k-1 pozdbiorów, następuje ich nauczanie, następnie sprawdzenie 'jakości' nauczonego modelu.\n",
    "Przy pomocy danego algorytmu uczenia maszynowego!"
   ],
   "metadata": {
    "collapsed": false
   }
  },
  {
   "cell_type": "code",
   "execution_count": null,
   "outputs": [],
   "source": [
    "roc_values = []\n",
    "results = []\n",
    "names = []\n",
    "for name, model, subplot_row in models:\n",
    "            print(f\"---------------------------\\nRunning classification for: {name}\")\n",
    "            kfold = StratifiedKFold(n_splits=cfg.n_splits, random_state=1, shuffle=True)\n",
    "            cv_results = cross_val_score(model, x_train, y_train, cv=kfold, scoring='accuracy')\n",
    "            results.append(cv_results)\n",
    "            names.append(name)\n",
    "            \n",
    "            print('\\nMean %f' % cv_results.mean())\n",
    "            print('STD %f' % cv_results.std())\n",
    "\n",
    "            # Make predictions on validation dataset\n",
    "            model.fit(x_train, y_train)\n",
    "            predictions = model.predict(x_validation)\n",
    "            \n",
    "            print('\\nConfusion matrix:')\n",
    "            print(confusion_matrix(y_validation, predictions))\n",
    "            \n",
    "            print('\\nAccuracy %f' % accuracy_score(y_validation, predictions))\n",
    "            print('Precision %f' % precision_score(y_validation, predictions))\n",
    "            print('Recall %f' % recall_score(y_validation, predictions))\n",
    "            print('Specificity %f' % get_specificity(y_validation, predictions))\n",
    "\n",
    "            print('\\nClassification report:')\n",
    "            print(classification_report(y_validation, predictions))\n",
    "            \n",
    "            # get_learning_curve(model, name, x_train, y_train)\n",
    "    \n",
    "            #ROC CURVE\n",
    "            # plot_roc_curve(model, x_validation, y_validation)\n",
    "            auc = roc_auc_score(y_validation, predictions)\n",
    "            fpr, tpr, _ = roc_curve(y_validation, predictions)\n",
    "            roc_values.append([name, fpr, tpr, auc])\n",
    "\n",
    "plt.figure()\n",
    "for x in roc_values:\n",
    "    pyplot.plot(x[1], x[2], label=\"%s AUC: %f\" % (x[0], x[3]))    \n",
    "plt.xlabel('False positive rate')\n",
    "plt.ylabel('True positive rate')\n",
    "plt.title('ROC curve')\n",
    "plt.legend(loc='best')\n",
    "plt.show()\n",
    "\n",
    "# Compare Algorithms\n",
    "fig = pyplot.figure()\n",
    "fig.suptitle(\"Algorithm Comparison\")\n",
    "ax = fig.add_subplot(1,1,1)\n",
    "ax.set_title(\"Algorithm Comparison\")\n",
    "ax.boxplot(results, labels=names)\n",
    "plot_show()"
   ],
   "metadata": {
    "collapsed": false,
    "pycharm": {
     "name": "#%%   \n",
     "is_executing": false
    }
   }
  }
 ],
 "metadata": {
  "language_info": {
   "codemirror_mode": {
    "name": "ipython",
    "version": 3
   },
   "file_extension": ".py",
   "mimetype": "text/x-python",
   "name": "python",
   "nbconvert_exporter": "python",
   "pygments_lexer": "ipython3",
   "version": 3
  },
  "orig_nbformat": 2,
  "kernelspec": {
   "name": "pycharm-e2780a5f",
   "language": "python",
   "display_name": "PyCharm (Uczenie maszynowe)"
  },
  "pycharm": {
   "stem_cell": {
    "cell_type": "raw",
    "source": [],
    "metadata": {
     "collapsed": false
    }
   }
  }
 },
 "nbformat": 4,
 "nbformat_minor": 2
}