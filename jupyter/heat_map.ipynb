{
 "cells": [
  {
   "cell_type": "code",
   "execution_count": null,
   "metadata": {
    "pycharm": {
     "is_executing": false
    }
   },
   "outputs": [],
   "source": [
    "!pip install scipy numpy matplotlib pandas sklearn > /dev/null\n",
    "!pip install requests\n",
    "!pip install geopandas\n",
    "!pip install geopy\n",
    "!pip install folium"
   ]
  },
  {
   "cell_type": "code",
   "execution_count": null,
   "outputs": [],
   "source": [
    "# Load libraries\n",
    "import json\n",
    "import requests\n",
    "import pandas as pd\n",
    "from pandas.io.json import json_normalize\n",
    "from geopy import Nominatim\n",
    "import numpy as np\n",
    "import webbrowser\n",
    "import folium\n",
    "from folium.plugins import HeatMap\n",
    "import geopandas as gpd\n"
   ],
   "metadata": {
    "collapsed": false,
    "pycharm": {
     "name": "#%%\n",
     "is_executing": false
    }
   }
  },
  {
   "cell_type": "markdown",
   "metadata": {
    "pycharm": {
     "name": "#%% md\n"
    }
   },
   "source": [
    "<h2>Dataset load</h2>"
   ]
  },
  {
   "cell_type": "code",
   "execution_count": null,
   "outputs": [],
   "source": [
    "                  \n",
    "def get_jobs_info(api_url = 'https://justjoin.it/api/offers'):\n",
    "    headers = {'Content-Type': 'application/json'}\n",
    "    response = requests.get(api_url, headers=headers)\n",
    "    if response.status_code == 200:\n",
    "        return json.loads(response.content.decode('utf-8'))\n",
    "    else:\n",
    "        return None\n"
   ],
   "metadata": {
    "collapsed": false,
    "pycharm": {
     "name": "#%%\n",
     "is_executing": false
    }
   }
  },
  {
   "cell_type": "markdown",
   "source": [
    "<h2>Global columns name</h2>\n",
    "\n",
    "Columns name used in building HeatMap and columns"
   ],
   "metadata": {
    "collapsed": false
   }
  },
  {
   "cell_type": "code",
   "execution_count": null,
   "outputs": [],
   "source": [
    "lat_column_name = 'lat'\n",
    "lon_column_name = 'lon'\n",
    "numerical_column_name = 'no'\n",
    "province_column_name = 'province'\n",
    "province_id_column_name = 'province_id'\n",
    "city_column_name = 'city'\n",
    "id_column_name = 'id'\n",
    "country_code_column_name = 'country_code'"
   ],
   "metadata": {
    "collapsed": false,
    "pycharm": {
     "name": "#%% \n",
     "is_executing": false
    }
   }
  },
  {
   "cell_type": "markdown",
   "source": [
    "<h2>Coordinates load</h2>"
   ],
   "metadata": {
    "collapsed": false
   }
  },
  {
   "cell_type": "code",
   "execution_count": null,
   "outputs": [],
   "source": [
    "def get_province_from_address (address_text, province_string = \"województwo \",\n",
    "                               split_sign=\",\"):\n",
    "    province = address_text.partition(province_string)[2] \n",
    "    province = province.partition(split_sign)[0] \n",
    "    \n",
    "    return province\n",
    "    \n",
    "def fill_geo_info(places_data, loc_column_name, fill_province = False):\n",
    "    locator = Nominatim(user_agent=\"myGeocoder\")\n",
    "    \n",
    "    for i, row in places_data.iterrows():\n",
    "        location = locator.geocode(row[loc_column_name])\n",
    "        if location is not None:\n",
    "            places_data.loc[i,lat_column_name] = location.latitude\n",
    "            places_data.loc[i,lon_column_name] = location.longitude\n",
    "            if fill_province:\n",
    "                places_data.loc[i, province_column_name] = get_province_from_address(\n",
    "                location.address)\n",
    "            \n",
    "    return places_data\n"
   ],
   "metadata": {
    "collapsed": false,
    "pycharm": {
     "name": "#%%\n",
     "is_executing": false
    }
   }
  },
  {
   "cell_type": "markdown",
   "source": [
    "<h2>Print heat map methods</h2>"
   ],
   "metadata": {
    "collapsed": false
   }
  },
  {
   "cell_type": "code",
   "execution_count": null,
   "outputs": [],
   "source": [
    "def print_heat_map(places_data, file_path = 'heat_map.html', \n",
    "                   heat_column_name = numerical_column_name):\n",
    "\n",
    "    places_len = len(places_data)\n",
    "    \n",
    "    lat = np.array(places_data[lat_column_name][0:places_len])\n",
    "    lon = np.array(places_data[lon_column_name][0:places_len])\n",
    "    no = np.array(places_data[heat_column_name][0:places_len],dtype=float)\n",
    "    data = [[lat[i],lon[i],no[i]] for i in range(places_len)] \n",
    "    \n",
    "    #location is the center location, draw a Map, and start zooming is 6 times.\n",
    "    map_osm = folium.Map(location=[lat.mean(),lon.mean()],zoom_start=6,control_scale=True)\n",
    "    HeatMap(data).add_to(map_osm) # Add heat map to the created map\n",
    "    map_osm.save(file_path) # Save as html file\n",
    "    webbrowser.open(file_path) # Default browser open\n",
    "\n",
    "def print_province_heat_map(province_data = None, heat_column_name = numerical_column_name,\n",
    "                            province_key_column_name = province_id_column_name,\n",
    "                            file_path = 'province_heat_map.html',\n",
    "                            legend_name = None):    \n",
    "    #preprocessing \n",
    "    province_data = province_data.dropna()\n",
    "    province_data[province_id_column_name]=\\\n",
    "        province_data[province_id_column_name].astype(int)\n",
    "    \n",
    "    province_geo_paths = get_province_geo_paths()\n",
    "    province_map = folium.Map([52, 19], zoom_start=6)\n",
    "    folium.Choropleth(geo_data=province_geo_paths,\n",
    "                  data=province_data,\n",
    "                    # kolumna z kluczem, kolumna z wartościami\n",
    "                  columns=[province_key_column_name, heat_column_name], \n",
    "                      # klucz z geoJSON\n",
    "                  key_on='feature.properties.JPT_KOD_JE', \n",
    "                  fill_color='YlOrRd', \n",
    "                  fill_opacity=0.7,\n",
    "                  line_opacity=0.2,\n",
    "                  legend_name=legend_name).add_to(province_map)\n",
    "    # zapisanie utworzonej mapy do pliku HTML\n",
    "    province_map.save(outfile = file_path)\n",
    "    webbrowser.open(file_path) # Default browser open\n",
    "    \n",
    "def get_province_geo_paths():\n",
    "    province_shapes = gpd.read_file('wojewodztwa.shp')\n",
    "    province_shapes = province_shapes[['JPT_KOD_JE', \"geometry\"]]\n",
    "    province_shapes['JPT_KOD_JE']=province_shapes['JPT_KOD_JE'].astype(int)\n",
    "    \n",
    "    # uproszczenie geometrii (mniejsza wartosc = bardziej dokładnie)\n",
    "    province_shapes.geometry = province_shapes.geometry.simplify(0.005)\n",
    "    province_geo_path = province_shapes.to_json()\n",
    "    return province_geo_path"
   ],
   "metadata": {
    "collapsed": false,
    "pycharm": {
     "name": "#%%\n",
     "is_executing": false
    }
   }
  },
  {
   "cell_type": "code",
   "execution_count": null,
   "outputs": [],
   "source": [
    "def group_by_city(data, address_column_name):\n",
    "    unique_places = data.groupby(address_column_name)[id_column_name].nunique()\n",
    "    places = pd.DataFrame({city_column_name:unique_places.index,\n",
    "                           numerical_column_name:unique_places.values})\n",
    "    places[lat_column_name]=np.nan\n",
    "    places[lon_column_name]=np.nan\n",
    "    \n",
    "    return places"
   ],
   "metadata": {
    "collapsed": false,
    "pycharm": {
     "name": "#%%\n",
     "is_executing": false
    }
   }
  },
  {
   "cell_type": "code",
   "execution_count": null,
   "outputs": [],
   "source": [
    "#just join it \n",
    "jjit_json = get_jobs_info()\n",
    "jjit_data = json_normalize(jjit_json)\n",
    "jjit_data.drop(jjit_data[ jjit_data[country_code_column_name] != 'PL' ].index , inplace=True)\n",
    "\n",
    "# print heat map with offer count\n",
    "grouped_city_data = group_by_city(jjit_data, city_column_name)\n",
    "places_map = fill_geo_info(grouped_city_data, city_column_name)\n",
    "print_heat_map(places_map)"
   ],
   "metadata": {
    "collapsed": false,
    "pycharm": {
     "name": "#%%\n",
     "is_executing": false
    }
   }
  },
  {
   "cell_type": "markdown",
   "source": [
    "<h2>Get province data </h2>"
   ],
   "metadata": {
    "collapsed": false
   }
  },
  {
   "cell_type": "code",
   "execution_count": null,
   "outputs": [],
   "source": [
    "def get_province_ids():\n",
    "    return pd.read_csv('woj_oznaczenia.csv', engine='python')\n",
    "\n",
    "\n",
    "def get_city_data(data, address_column_name):\n",
    "    unique_places = data.groupby(address_column_name)[id_column_name].nunique()\n",
    "    \n",
    "    places = pd.DataFrame({city_column_name:unique_places.index})\n",
    "    places[lat_column_name]=np.nan\n",
    "    places[lon_column_name]=np.nan\n",
    "    places[province_column_name]=np.nan\n",
    "    \n",
    "    return places"
   ],
   "metadata": {
    "collapsed": false,
    "pycharm": {
     "name": "#%%\n",
     "is_executing": false
    }
   }
  },
  {
   "cell_type": "code",
   "execution_count": null,
   "outputs": [],
   "source": [
    "places_map = get_city_data(jjit_data, city_column_name)\n",
    "places_map = fill_geo_info(places_map, city_column_name, fill_province=True)\n",
    "\n",
    "jjit_data = pd.merge(jjit_data, places_map, how='outer', \n",
    "                     left_on=city_column_name, right_on=city_column_name)\n",
    "\n",
    "province_ids = get_province_ids()"
   ],
   "metadata": {
    "collapsed": false,
    "pycharm": {
     "name": "#%%\n",
     "is_executing": false
    }
   }
  },
  {
   "cell_type": "markdown",
   "source": [
    "<h2>Print heat map for min/max average salary </h2>"
   ],
   "metadata": {
    "collapsed": false,
    "pycharm": {
     "name": "#%% md\n"
    }
   }
  },
  {
   "cell_type": "code",
   "execution_count": null,
   "outputs": [],
   "source": [
    "#group by province and aggregate min salary\n",
    "min_salary_per_province_data = jjit_data.groupby(province_column_name) \\\n",
    "       .agg({'salary_from':'mean'}) \\\n",
    "       .rename(columns={'salary_from':'mean_salary_from'}) \\\n",
    "       .reset_index()\n",
    "\n",
    "#merge with province GUGiK data (we need province id)\n",
    "province_data = pd.merge(min_salary_per_province_data, province_ids, how='outer',\n",
    "                         left_on=province_column_name, right_on=province_column_name)\n",
    "\n",
    "print_province_heat_map(province_data = province_data,\n",
    "                        heat_column_name=\"mean_salary_from\",\n",
    "                        file_path=\"min.html\",\n",
    "                        legend_name=\"Średnie minimalne wynagrodzenia\")"
   ],
   "metadata": {
    "collapsed": false,
    "pycharm": {
     "name": "#%%\n",
     "is_executing": false
    }
   }
  },
  {
   "cell_type": "code",
   "execution_count": null,
   "outputs": [],
   "source": [
    "#group by province and aggregate max salary\n",
    "max_salary_per_province_data = jjit_data.groupby(province_column_name) \\\n",
    "       .agg({'salary_to':'mean'}) \\\n",
    "       .rename(columns={'salary_to':'mean_salary_to'}) \\\n",
    "       .reset_index()\n",
    "\n",
    "#merge with province GUGiK data (we need province id)\n",
    "province_data = pd.merge(max_salary_per_province_data, province_ids, how='outer',\n",
    "                         left_on=province_column_name, right_on=province_column_name)\n",
    "\n",
    "print_province_heat_map(province_data = province_data,\n",
    "                        heat_column_name=\"mean_salary_to\",\n",
    "                        file_path=\"maks.html\",\n",
    "                        legend_name=\"Średnie maksymalne wynagrodzenia\")"
   ],
   "metadata": {
    "collapsed": false,
    "pycharm": {
     "name": "#%%\n",
     "is_executing": false
    }
   }
  }
 ],
 "metadata": {
  "kernelspec": {
   "name": "pycharm-e2780a5f",
   "language": "python",
   "display_name": "PyCharm (Uczenie maszynowe)"
  },
  "language_info": {
   "codemirror_mode": {
    "name": "ipython",
    "version": 3
   },
   "file_extension": ".py",
   "mimetype": "text/x-python",
   "name": "python",
   "nbconvert_exporter": "python",
   "pygments_lexer": "ipython3",
   "version": "3.7.6"
  },
  "pycharm": {
   "stem_cell": {
    "cell_type": "raw",
    "source": [],
    "metadata": {
     "collapsed": false
    }
   }
  }
 },
 "nbformat": 4,
 "nbformat_minor": 2
}